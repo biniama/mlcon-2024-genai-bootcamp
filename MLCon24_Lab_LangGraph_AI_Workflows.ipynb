{
  "nbformat": 4,
  "nbformat_minor": 0,
  "metadata": {
    "colab": {
      "provenance": [],
      "collapsed_sections": [
        "lJy5wsZuHvXz",
        "XUC6k6SzJE5a"
      ]
    },
    "kernelspec": {
      "name": "python3",
      "display_name": "Python 3"
    },
    "language_info": {
      "name": "python"
    }
  },
  "cells": [
    {
      "cell_type": "markdown",
      "source": [
        "<img src=\"https://71022.cdn.cke-cs.com/RructTCFEHceQFc13ldy/images/6dbe93b28dbb43fbc9d50623b68a675a1fedd7608af93b46.png\" srcset=\"https://71022.cdn.cke-cs.com/RructTCFEHceQFc13ldy/images/6dbe93b28dbb43fbc9d50623b68a675a1fedd7608af93b46.png/w_130 130w, https://71022.cdn.cke-cs.com/RructTCFEHceQFc13ldy/images/6dbe93b28dbb43fbc9d50623b68a675a1fedd7608af93b46.png/w_260 260w, https://71022.cdn.cke-cs.com/RructTCFEHceQFc13ldy/images/6dbe93b28dbb43fbc9d50623b68a675a1fedd7608af93b46.png/w_390 390w, https://71022.cdn.cke-cs.com/RructTCFEHceQFc13ldy/images/6dbe93b28dbb43fbc9d50623b68a675a1fedd7608af93b46.png/w_520 520w, https://71022.cdn.cke-cs.com/RructTCFEHceQFc13ldy/images/6dbe93b28dbb43fbc9d50623b68a675a1fedd7608af93b46.png/w_650 650w, https://71022.cdn.cke-cs.com/RructTCFEHceQFc13ldy/images/6dbe93b28dbb43fbc9d50623b68a675a1fedd7608af93b46.png/w_780 780w, https://71022.cdn.cke-cs.com/RructTCFEHceQFc13ldy/images/6dbe93b28dbb43fbc9d50623b68a675a1fedd7608af93b46.png/w_910 910w, https://71022.cdn.cke-cs.com/RructTCFEHceQFc13ldy/images/6dbe93b28dbb43fbc9d50623b68a675a1fedd7608af93b46.png/w_1040 1040w, https://71022.cdn.cke-cs.com/RructTCFEHceQFc13ldy/images/6dbe93b28dbb43fbc9d50623b68a675a1fedd7608af93b46.png/w_1170 1170w, https://71022.cdn.cke-cs.com/RructTCFEHceQFc13ldy/images/6dbe93b28dbb43fbc9d50623b68a675a1fedd7608af93b46.png/w_1290 1290w\" sizes=\"100vw\" width=\"1290\">\n",
        "<p style='margin-top: 1rem; margin-bottom: 1rem;'>Developed by Marco Frodl, Principal Consultant for Generative AI @ <a href='https://go.mfr.one/tt-en' _target='blank'>Thinktecture AG</a> -- More about me on my <a href='https://go.mfr.one/marcofrodl-en' _target='blank'>profile page</a></p>"
      ],
      "metadata": {
        "id": "Vigmlask6ys0"
      }
    },
    {
      "cell_type": "markdown",
      "source": [
        "We want to implement a simple LangGraph AI workflow. The workflow should analyze the user's question and perform a web search on angular.dev if the question pertains to coding, and conduct an open web search for any other topic. To achieve this, you need to implement an AI-driven topic router as the first step in your AI workflow.\n",
        "\n",
        "Tasks and details:\n",
        "\n",
        "* All parts where you should implement something are marked with \"...\" or a sentence starting with \"Task: \"\n",
        "* Include tracing with Langfuse if you have a key for it. If not, remove all references\n",
        "* Use the Llama-3.1-70B LLM hosted on OVH\n",
        "* You need a free API key for Tavily (tavily.com) stored as TAVILY_API_KEY in the Secrets Manager\n",
        "* Use only the given nodes and conditional nodes; don't add new nodes\n",
        "* Use the print_graph_result function to output the result of your graph execution\n",
        "* We want answers to these two questions\n",
        "  * Q1: Wie viele Komponenten brauche ich mindestens für das Setup von Routing?\n",
        "  * Q2: Wie hoch ist der Berliner Fernsehturm?\n",
        "\n",
        "If you need help:\n",
        "* Use the LangChain chat bot for anything about LangChain: https://chat.langchain.com/\n",
        "* For general questions you can use free https://huggingface.co/chat/ with nvidia/Llama-3.1-Nemotron-70B-Instruct-HF LLM - you need a free HuggingFace account to login"
      ],
      "metadata": {
        "id": "NrNXuEZG5YNG"
      }
    },
    {
      "cell_type": "markdown",
      "source": [
        "## Prettify Colab Notebook outputs"
      ],
      "metadata": {
        "id": "lJy5wsZuHvXz"
      }
    },
    {
      "cell_type": "code",
      "source": [
        "from IPython.display import HTML, display\n",
        "\n",
        "def set_css():\n",
        "  display(HTML('''\n",
        "  <style>\n",
        "    pre {\n",
        "        white-space: pre-wrap;\n",
        "    }\n",
        "  </style>\n",
        "  '''))\n",
        "get_ipython().events.register('pre_run_cell', set_css)"
      ],
      "metadata": {
        "id": "xOA06-GRFTeK"
      },
      "execution_count": 1,
      "outputs": []
    },
    {
      "cell_type": "markdown",
      "source": [
        "## Set API keys via Colab Secrets"
      ],
      "metadata": {
        "id": "XUC6k6SzJE5a"
      }
    },
    {
      "cell_type": "code",
      "source": [
        "# import Colab Secrets userdata module\n",
        "from google.colab import userdata\n",
        "import os\n",
        "\n",
        "# set Langfuse API keys\n",
        "os.environ[\"LANGFUSE_PUBLIC_KEY\"] = userdata.get('LANGFUSE_PUBLIC_KEY')\n",
        "os.environ[\"LANGFUSE_SECRET_KEY\"] = userdata.get('LANGFUSE_SECRET_KEY')"
      ],
      "metadata": {
        "id": "7Aj0mSvhyJI5",
        "colab": {
          "base_uri": "https://localhost:8080/",
          "height": 17
        },
        "outputId": "1dfa27d0-902a-40bf-c520-fd45cc927d57"
      },
      "execution_count": 2,
      "outputs": [
        {
          "output_type": "display_data",
          "data": {
            "text/plain": [
              "<IPython.core.display.HTML object>"
            ],
            "text/html": [
              "\n",
              "  <style>\n",
              "    pre {\n",
              "        white-space: pre-wrap;\n",
              "    }\n",
              "  </style>\n",
              "  "
            ]
          },
          "metadata": {}
        }
      ]
    },
    {
      "cell_type": "markdown",
      "source": [
        "## Load libraries"
      ],
      "metadata": {
        "id": "6jh11ajrHjFC"
      }
    },
    {
      "cell_type": "code",
      "source": [
        "!pip -q install protobuf==3.20.3 langchain==0.3.8 langchain-core==0.3.21 langchain-community==0.3.8 langchain-openai==0.2.9\n",
        "!pip -q install langgraph==0.2.53\n",
        "!pip -q install langfuse==2.54.1\n",
        "!pip -q install tavily-python"
      ],
      "metadata": {
        "id": "pfrfCqwVVG_Y"
      },
      "execution_count": null,
      "outputs": []
    },
    {
      "cell_type": "code",
      "source": [
        "# let's check the imported versions of the most important libraries\n",
        "!pip show langchain\n",
        "!pip show langchain-core\n",
        "!pip show langchain_openai\n",
        "!pip show langchain_community\n",
        "!pip show langgraph\n",
        "!pip show langfuse"
      ],
      "metadata": {
        "id": "wsfvcpLnQyw_"
      },
      "execution_count": null,
      "outputs": []
    },
    {
      "cell_type": "markdown",
      "source": [
        "## Prepare LLM"
      ],
      "metadata": {
        "id": "PflymEKFgBBl"
      }
    },
    {
      "cell_type": "code",
      "source": [
        "# for this notebook we use the free OVH AI endpoints and get access to a bunch of different open source LLMs\n",
        "# you must register for an account to get your own (free) access token\n",
        "from langchain_openai import ChatOpenAI\n",
        "\n",
        "TEMPERATURE = 0\n",
        "MAX_TOKENS = 1500\n",
        "\n",
        "# OVH AI Endpoints Overview: https://endpoints.ai.cloud.ovh.net/\n",
        "\n",
        "# OVH Mistral Nemo\n",
        "#MODEL_NAME = \"Mistral-Nemo-Instruct-2407\"\n",
        "#BASE_URL = \"https://mistral-nemo-instruct-2407.endpoints.kepler.ai.cloud.ovh.net/api/openai_compat/v1\"\n",
        "\n",
        "# OVH Mistral-7B-0.2\n",
        "#MODEL_NAME = \"Mistral-7B-Instruct-v0.2\"\n",
        "#BASE_URL = \"https://mistral-7b-instruct-v02.endpoints.kepler.ai.cloud.ovh.net/api/openai_compat/v1\"\n",
        "\n",
        "# OVH Mixtral 8x22B\n",
        "#MODEL_NAME = \"Mixtral-8x22B-Instruct-v0.1\"\n",
        "#BASE_URL = \"https://mixtral-8x22b-instruct-v01.endpoints.kepler.ai.cloud.ovh.net/api/openai_compat/v1\"\n",
        "\n",
        "# OVH Llama3-70B\n",
        "#MODEL_NAME = \"Meta-Llama-3-70B-Instruct\"\n",
        "#BASE_URL = \"https://llama-3-70b-instruct.endpoints.kepler.ai.cloud.ovh.net/api/openai_compat/v1\"\n",
        "\n",
        "# OVH Llama3-8B\n",
        "#MODEL_NAME = \"Meta-Llama-3-8B-Instruct\"\n",
        "#BASE_URL = \"https://llama-3-8b-instruct.endpoints.kepler.ai.cloud.ovh.net/api/openai_compat/v1\"\n",
        "\n",
        "# OVH Llama3.1-70B\n",
        "#MODEL_NAME = \"Meta-Llama-3_1-70B-Instruct\"\n",
        "#BASE_URL = \"https://llama-3-1-70b-instruct.endpoints.kepler.ai.cloud.ovh.net/api/openai_compat/v1\"\n",
        "\n",
        "# OVH Mamba Codestral 7B\n",
        "#MODEL_NAME = \"mamba-codestral-7B-v0.1\"\n",
        "#BASE_URL = \"https://mamba-codestral-7b-v0-1.endpoints.kepler.ai.cloud.ovh.net/api/openai_compat/v1/\"\n",
        "\n",
        "# OVH CodeLlama-13B\n",
        "#MODEL_NAME = \"CodeLlama-13b-Instruct-hf\"\n",
        "#BASE_URL = \"https://codellama-13b-instruct-hf.endpoints.kepler.ai.cloud.ovh.net/api/openai_compat/v1\"\n",
        "\n",
        "#Task: Implement the 4 necessary parameters here to successfully initialize the LLM.\n",
        "llm = ChatOpenAI(..., api_key=userdata.get('OVH_AI_ENDPOINTS_ACCESS_TOKEN'))"
      ],
      "metadata": {
        "id": "YJ3o8h7OgBBm",
        "colab": {
          "base_uri": "https://localhost:8080/",
          "height": 17
        },
        "outputId": "db85cd3e-2041-4f52-9e2d-3875ca13df4b"
      },
      "execution_count": 35,
      "outputs": [
        {
          "output_type": "display_data",
          "data": {
            "text/plain": [
              "<IPython.core.display.HTML object>"
            ],
            "text/html": [
              "\n",
              "  <style>\n",
              "    pre {\n",
              "        white-space: pre-wrap;\n",
              "    }\n",
              "  </style>\n",
              "  "
            ]
          },
          "metadata": {}
        }
      ]
    },
    {
      "cell_type": "markdown",
      "source": [
        "## Prepare LangFuse"
      ],
      "metadata": {
        "id": "vOP866IZG87z"
      }
    },
    {
      "cell_type": "code",
      "source": [
        "# prepare Langfuse as debugging and tracing framework for our Generative AI application - never develop GenAI apps without that!\n",
        "from langfuse.callback import CallbackHandler\n",
        "handler = ..."
      ],
      "metadata": {
        "id": "gdG06ivx5xV1",
        "colab": {
          "base_uri": "https://localhost:8080/",
          "height": 17
        },
        "outputId": "6f060e3c-d70c-450c-d5c0-94f73ae45bff"
      },
      "execution_count": 6,
      "outputs": [
        {
          "output_type": "display_data",
          "data": {
            "text/plain": [
              "<IPython.core.display.HTML object>"
            ],
            "text/html": [
              "\n",
              "  <style>\n",
              "    pre {\n",
              "        white-space: pre-wrap;\n",
              "    }\n",
              "  </style>\n",
              "  "
            ]
          },
          "metadata": {}
        }
      ]
    },
    {
      "cell_type": "markdown",
      "source": [
        "## Prepare prompts and instructions"
      ],
      "metadata": {
        "id": "aVMRD664Vnyj"
      }
    },
    {
      "cell_type": "markdown",
      "source": [
        "### Prompt for final answer generation"
      ],
      "metadata": {
        "id": "QK9KxjO7O6sC"
      }
    },
    {
      "cell_type": "code",
      "source": [
        "# Define prompt for answer generation\n",
        "prompt_template = \"\"\"You are an assistant for question-answering tasks at ACME GmbH.\n",
        "Think carefully about the context.\n",
        "Just say 'Diese Frage kann ich nicht beantworten' if there is not enough or no context given.\n",
        "Provide an answer to the user question using only the given context.\n",
        "Use three sentences maximum and keep the answer concise.\n",
        "Here is the context to use to answer the question:\n",
        "\n",
        "{context}\n",
        "\n",
        "Now, review the user question:\n",
        "\n",
        "{question}\n",
        "\n",
        "Write the answer in German. Don't output an English translation.\n",
        "\n",
        "Answer:\"\"\""
      ],
      "metadata": {
        "id": "zGoTLGhqbgPa",
        "colab": {
          "base_uri": "https://localhost:8080/",
          "height": 17
        },
        "outputId": "34a9fe55-820b-404b-9beb-0bdf5d0cb349"
      },
      "execution_count": 7,
      "outputs": [
        {
          "output_type": "display_data",
          "data": {
            "text/plain": [
              "<IPython.core.display.HTML object>"
            ],
            "text/html": [
              "\n",
              "  <style>\n",
              "    pre {\n",
              "        white-space: pre-wrap;\n",
              "    }\n",
              "  </style>\n",
              "  "
            ]
          },
          "metadata": {}
        }
      ]
    },
    {
      "cell_type": "markdown",
      "source": [
        "### Prompt for topic routing at workflow start"
      ],
      "metadata": {
        "id": "1wuZ3mpzO-zo"
      }
    },
    {
      "cell_type": "code",
      "source": [
        "# Task: we want to use few shot prompting here - fill the 2 gaps in the prompt template\n",
        "# define prompt for routing\n",
        "import json\n",
        "from langchain_core.messages import HumanMessage, SystemMessage\n",
        "\n",
        "router_instructions = \"\"\"You are an expert at routing a user question to a devsearch or websearch.\n",
        "The devsearch contains documents related to coding, programming, development practices, single page applications, the Angular framework.\n",
        "If the question is related to coding or development but not specifically covered by the devsearch, still return 'devsearch'.\n",
        "Use 'websearch' for non-coding questions.\n",
        "Return JSON with a single key, \"datasource,\" that is 'websearch' or 'devsearch' depending on the question.\n",
        "Output JSON only, without any introduction or explanation.\n",
        "\n",
        "Example output 1:\n",
        "{\n",
        "  \"datasource\": \"...\"\n",
        "}\n",
        "\n",
        "Example output 2:\n",
        "{\n",
        "  \"datasource\": \"...\"\n",
        "}\n",
        "\"\"\""
      ],
      "metadata": {
        "colab": {
          "base_uri": "https://localhost:8080/",
          "height": 17
        },
        "id": "5xLVYY8sVr6d",
        "outputId": "5a827f01-5ebc-4624-ce95-02417cbd06e7"
      },
      "execution_count": 21,
      "outputs": [
        {
          "output_type": "display_data",
          "data": {
            "text/plain": [
              "<IPython.core.display.HTML object>"
            ],
            "text/html": [
              "\n",
              "  <style>\n",
              "    pre {\n",
              "        white-space: pre-wrap;\n",
              "    }\n",
              "  </style>\n",
              "  "
            ]
          },
          "metadata": {}
        }
      ]
    },
    {
      "cell_type": "markdown",
      "source": [
        "### Setup Tavily search client"
      ],
      "metadata": {
        "id": "EZ1bz8lTRBye"
      }
    },
    {
      "cell_type": "code",
      "source": [
        "# Tavily playground: https://app.tavily.com/playground\n",
        "# Instantiating your TavilyClient\n",
        "from tavily import TavilyClient\n",
        "search_client = TavilyClient(api_key=userdata.get('TAVILY_API_KEY'))"
      ],
      "metadata": {
        "colab": {
          "base_uri": "https://localhost:8080/",
          "height": 17
        },
        "id": "TS1-t8FbRFt1",
        "outputId": "a92c2181-e21d-40f6-a847-fc66b732395b"
      },
      "execution_count": 9,
      "outputs": [
        {
          "output_type": "display_data",
          "data": {
            "text/plain": [
              "<IPython.core.display.HTML object>"
            ],
            "text/html": [
              "\n",
              "  <style>\n",
              "    pre {\n",
              "        white-space: pre-wrap;\n",
              "    }\n",
              "  </style>\n",
              "  "
            ]
          },
          "metadata": {}
        }
      ]
    },
    {
      "cell_type": "code",
      "source": [
        "# Task: Test open web search with the question 'Wie hoch ist der Berliner Fernsehturm?' - we want to get back the best 2 results\n",
        "# check https://docs.tavily.com/docs/python-sdk/tavily-search/api-reference#methods for the details\n",
        "from langchain.schema import Document\n",
        "results = search_client.search(\"...\", search_depth=\"advanced\", ...)\n",
        "\n",
        "# List to store the generated Document objects\n",
        "documents = []\n",
        "\n",
        "# Iterate over each entry in the feed\n",
        "for entry in results[\"results\"]:\n",
        "    # Extract the page content\n",
        "    page_content = entry.get('content', 'No content')\n",
        "\n",
        "    # Extract metadata\n",
        "    metadata = {\n",
        "        \"title\": entry.get('title', 'No Title'),\n",
        "        \"link\": entry.get('url', 'No Link'),\n",
        "        \"score\": entry.get('score', '0'),\n",
        "    }\n",
        "\n",
        "    # Create a Document object for this entry\n",
        "    document = Document(page_content=page_content, metadata=metadata)\n",
        "\n",
        "    # Append the document to the list\n",
        "    documents.append(document)\n",
        "\n",
        "# Output results\n",
        "for doc in documents:\n",
        "    # Extract metadata and page content\n",
        "    title = doc.metadata.get('title', 'N/A')\n",
        "    link = doc.metadata.get('link', 'N/A')\n",
        "    score = doc.metadata.get('score', 'N/A')\n",
        "    content = doc.page_content[:350]  # Limit content for readability\n",
        "\n",
        "    # Print in a readable format\n",
        "    print(f\"Title: {title}\")\n",
        "    print(f\"Link: {link}\")\n",
        "    print(f\"Score: {score}\")\n",
        "    print(f\"Content: {content}\")\n",
        "    print(\"-\" * 50 )\n"
      ],
      "metadata": {
        "id": "7k0bGO36UPkI"
      },
      "execution_count": null,
      "outputs": []
    },
    {
      "cell_type": "code",
      "source": [
        "# Task: we want to limit the angular search to documents from angular.dev domain - include only this domain in the search\n",
        "# check https://docs.tavily.com/docs/python-sdk/tavily-search/api-reference#methods for the details\n",
        "# also have a look at https://docs.tavily.com/docs/python-sdk/tavily-search/api-reference#keyword-arguments-optional to understand what type of input Tavily expects for domains\n",
        "\n",
        "from langchain.schema import Document\n",
        "results = search_client.search(\"Wie viele Komponenten brauche ich mindestens für das Setup von Routing?\", search_depth=\"advanced\", max_results=2, ... , include_raw_content=True)\n",
        "\n",
        "# List to store the generated Document objects\n",
        "documents = []\n",
        "\n",
        "# Iterate over each entry in the feed\n",
        "for entry in results[\"results\"]:\n",
        "    # Extract the page content\n",
        "    page_content = entry.get('raw_content', 'No content')\n",
        "\n",
        "    # Extract metadata\n",
        "    metadata = {\n",
        "        \"title\": entry.get('title', 'No Title'),\n",
        "        \"link\": entry.get('url', 'No Link'),\n",
        "        \"score\": entry.get('score', '0'),\n",
        "    }\n",
        "\n",
        "    # Create a Document object for this entry\n",
        "    document = Document(page_content=page_content, metadata=metadata)\n",
        "\n",
        "    # Append the document to the list\n",
        "    documents.append(document)\n",
        "\n",
        "# Output results\n",
        "for doc in documents:\n",
        "    # Extract metadata and page content\n",
        "    title = doc.metadata.get('title', 'N/A')\n",
        "    link = doc.metadata.get('link', 'N/A')\n",
        "    score = doc.metadata.get('score', 'N/A')\n",
        "    content = doc.page_content[:80]  # Limit content for readability\n",
        "\n",
        "    # Print in a readable format\n",
        "    print(f\"Title: {title}\")\n",
        "    print(f\"Link: {link}\")\n",
        "    print(f\"Score: {score}\")\n",
        "    print(f\"Content: {content}\")\n",
        "    print(\"-\" * 50 )"
      ],
      "metadata": {
        "id": "hsAKfag0Wq8T"
      },
      "execution_count": null,
      "outputs": []
    },
    {
      "cell_type": "markdown",
      "source": [
        "## Setup Graph"
      ],
      "metadata": {
        "id": "xbuD7l0FvrgM"
      }
    },
    {
      "cell_type": "code",
      "source": [
        "from typing_extensions import TypedDict\n",
        "from typing import List\n",
        "\n",
        "class GraphState(TypedDict):\n",
        "    \"\"\"\n",
        "    Graph state is a dictionary that contains information we want to propagate to, and modify in, each graph node.\n",
        "    \"\"\"\n",
        "    question : str # User question\n",
        "    generation : str # LLM generation\n",
        "    documents : List[str] # List of retrieved documents"
      ],
      "metadata": {
        "colab": {
          "base_uri": "https://localhost:8080/",
          "height": 17
        },
        "id": "ywyPa2HLvueZ",
        "outputId": "b3151a30-e6e9-41c4-d609-c9e252f65712"
      },
      "execution_count": 11,
      "outputs": [
        {
          "output_type": "display_data",
          "data": {
            "text/plain": [
              "<IPython.core.display.HTML object>"
            ],
            "text/html": [
              "\n",
              "  <style>\n",
              "    pre {\n",
              "        white-space: pre-wrap;\n",
              "    }\n",
              "  </style>\n",
              "  "
            ]
          },
          "metadata": {}
        }
      ]
    },
    {
      "cell_type": "code",
      "source": [
        "from langchain_core.messages import HumanMessage\n",
        "from langgraph.graph import START, END\n",
        "\n",
        "### Helper function\n",
        "# Post-processing\n",
        "def format_docs(docs):\n",
        "    return \"\\n\\n\".join(doc.page_content for doc in docs)\n",
        "\n",
        "### Nodes\n",
        "def web_search_angular(state):\n",
        "    \"\"\"\n",
        "    Run web search for Angular content on angular.dev\n",
        "\n",
        "    Args:\n",
        "        state (dict): The current graph state\n",
        "\n",
        "    Returns:\n",
        "        state (dict): New key added to state, documents, that contains retrieved documents\n",
        "    \"\"\"\n",
        "    print(\"--- WEB SEARCH ANGULAR ---\")\n",
        "    question = state[\"question\"]\n",
        "    # Instantiating your TavilyClient\n",
        "    from tavily import TavilyClient\n",
        "    search_client = TavilyClient(api_key=userdata.get('TAVILY_API_KEY'))\n",
        "\n",
        "    # Run open web search\n",
        "    from langchain.schema import Document\n",
        "    # Task: copy all the needed parts from your angular.dev test from above and insert them here\n",
        "    results = search_client.search(question, ...)\n",
        "\n",
        "    # List to store the generated Document objects\n",
        "    documents = []\n",
        "\n",
        "    # Iterate over each entry in the feed\n",
        "    for entry in results[\"results\"]:\n",
        "        # Extract the page content: prefer raw_content, fall back to content, and use default if both are empty\n",
        "        page_content = entry.get('raw_content') or entry.get('content') or \"No content found\"\n",
        "\n",
        "        # Extract metadata\n",
        "        metadata = {\n",
        "            \"title\": entry.get('title', 'No Title'),\n",
        "            \"link\": entry.get('url', 'No Link'),\n",
        "            \"score\": entry.get('score', '0'),\n",
        "        }\n",
        "\n",
        "        # Create a Document object for this entry\n",
        "        document = Document(page_content=page_content, metadata=metadata)\n",
        "\n",
        "        # Append the document to the list\n",
        "        documents.append(document)\n",
        "\n",
        "\n",
        "    # Write retrieved documents to documents key in graph state\n",
        "    print(f\"> found {len(documents)} documents\")\n",
        "    return{\"documents\": documents}\n",
        "\n",
        "def web_search_full(state):\n",
        "    \"\"\"\n",
        "    Run web search for any content for given question\n",
        "\n",
        "    Args:\n",
        "        state (dict): The current graph state\n",
        "\n",
        "    Returns:\n",
        "        state (dict): New key added to state, documents, that contains retrieved documents\n",
        "    \"\"\"\n",
        "    print(\"--- WEB SEARCH FULL ---\")\n",
        "    question = state[\"question\"]\n",
        "    # Instantiating your TavilyClient\n",
        "    from tavily import TavilyClient\n",
        "    search_client = TavilyClient(api_key=userdata.get('TAVILY_API_KEY'))\n",
        "\n",
        "    # Run open web search\n",
        "    from langchain.schema import Document\n",
        "    results = search_client.search(question, search_depth=\"advanced\", max_results=2)\n",
        "\n",
        "    # List to store the generated Document objects\n",
        "    documents = []\n",
        "\n",
        "    # Iterate over each entry in the feed\n",
        "    for entry in results[\"results\"]:\n",
        "        # Extract the page content\n",
        "        page_content = entry.get('content', 'No content')\n",
        "\n",
        "        # Extract metadata\n",
        "        metadata = {\n",
        "            \"title\": entry.get('title', 'No Title'),\n",
        "            \"link\": entry.get('url', 'No Link'),\n",
        "            \"score\": entry.get('score', '0'),\n",
        "        }\n",
        "\n",
        "        # Create a Document object for this entry\n",
        "        document = Document(page_content=page_content, metadata=metadata)\n",
        "\n",
        "        # Append the document to the list\n",
        "        documents.append(document)\n",
        "\n",
        "\n",
        "    # Write retrieved documents to documents key in state\n",
        "    print(f\"> found {len(documents)} documents\")\n",
        "    return{\"documents\": documents}\n",
        "\n",
        "def generate(state):\n",
        "    \"\"\"\n",
        "    Generate answer using RAG on retrieved documents\n",
        "\n",
        "    Args:\n",
        "        state (dict): The current graph state\n",
        "\n",
        "    Returns:\n",
        "        state (dict): New key added to state, generation, that contains LLM generation\n",
        "    \"\"\"\n",
        "    print(\"---GENERATE---\")\n",
        "    question = state[\"question\"]\n",
        "    documents = state[\"documents\"]\n",
        "\n",
        "    # RAG generation\n",
        "    docs_txt = format_docs(documents)\n",
        "    rag_prompt_formatted = prompt_template.format(context=docs_txt, question=question)\n",
        "    generation = llm.invoke([HumanMessage(content=rag_prompt_formatted)])\n",
        "    return {\"generation\": generation}"
      ],
      "metadata": {
        "colab": {
          "base_uri": "https://localhost:8080/",
          "height": 17
        },
        "id": "P2OUbm7lv5_o",
        "outputId": "e7313b3c-d785-45d4-e579-44a0e19e348e"
      },
      "execution_count": 14,
      "outputs": [
        {
          "output_type": "display_data",
          "data": {
            "text/plain": [
              "<IPython.core.display.HTML object>"
            ],
            "text/html": [
              "\n",
              "  <style>\n",
              "    pre {\n",
              "        white-space: pre-wrap;\n",
              "    }\n",
              "  </style>\n",
              "  "
            ]
          },
          "metadata": {}
        }
      ]
    },
    {
      "cell_type": "code",
      "source": [
        "### Conditional nodes\n",
        "def route_question(state):\n",
        "    \"\"\"\n",
        "    Route question to web search full or websearch angular\n",
        "\n",
        "    Args:\n",
        "        state (dict): The current graph state\n",
        "\n",
        "    Returns:\n",
        "        str: Next node to call\n",
        "    \"\"\"\n",
        "\n",
        "    print(\"--- TOPIC ROUTER ---\")\n",
        "    route_question = llm.invoke(\n",
        "        [SystemMessage(content=router_instructions)]\n",
        "        + [HumanMessage(content=state[\"question\"])]\n",
        "    )\n",
        "    source = json.loads(route_question.content)[\"datasource\"]\n",
        "    if source == \"websearch\":\n",
        "        print(\"> ROUTE QUESTION TO WEB_SEARCH_FULL ---\")\n",
        "        return \"websearch\"\n",
        "    elif source == \"devsearch\":\n",
        "        print(\"> ROUTE QUESTION TO WEB_SEARCH_ANGULAR ---\")\n",
        "        return \"devsearch\""
      ],
      "metadata": {
        "colab": {
          "base_uri": "https://localhost:8080/",
          "height": 17
        },
        "id": "iGNuYXT2ViVk",
        "outputId": "10a9aa71-6a5b-43af-8971-a35a143213f3"
      },
      "execution_count": 22,
      "outputs": [
        {
          "output_type": "display_data",
          "data": {
            "text/plain": [
              "<IPython.core.display.HTML object>"
            ],
            "text/html": [
              "\n",
              "  <style>\n",
              "    pre {\n",
              "        white-space: pre-wrap;\n",
              "    }\n",
              "  </style>\n",
              "  "
            ]
          },
          "metadata": {}
        }
      ]
    },
    {
      "cell_type": "code",
      "source": [
        "from langgraph.graph import StateGraph\n",
        "from IPython.display import Image, display\n",
        "\n",
        "workflow = StateGraph(GraphState)\n",
        "\n",
        "# Define the nodes\n",
        "workflow.add_node(\"web_search_full\", web_search_full) # full websearch\n",
        "workflow.add_node(\"web_search_angular\", web_search_angular) # websearch angular.dev\n",
        "workflow.add_node(\"generate\", generate) # generate\n",
        "\n",
        "# Define the edges\n",
        "workflow.set_conditional_entry_point(\n",
        "    route_question,\n",
        "    {\n",
        "        \"websearch\": \"...\", # Task: insert the correct node name here\n",
        "        \"devsearch\": \"...\", # Task: insert the correct node name here\n",
        "    },\n",
        ")\n",
        "workflow.add_edge(\"web_search_full\", \"...\") # Task: insert the correct node name here\n",
        "workflow.add_edge(\"web_search_angular\", \"...\") # Task: insert the correct node name here\n",
        "workflow.add_edge(\"generate\", END)\n",
        "\n",
        "# Compile\n",
        "graph = workflow.compile()\n",
        "# Task: Have a look at the given graph and display your graph setup - do you get the same result?\n",
        "display(Image(graph.get_graph().draw_mermaid_png()))"
      ],
      "metadata": {
        "colab": {
          "base_uri": "https://localhost:8080/",
          "height": 374
        },
        "id": "K9I2Ugcz4sTq",
        "outputId": "4c6072ec-be8a-42bf-a8eb-ff86fbeb82b4"
      },
      "execution_count": 24,
      "outputs": [
        {
          "output_type": "display_data",
          "data": {
            "text/plain": [
              "<IPython.core.display.HTML object>"
            ],
            "text/html": [
              "\n",
              "  <style>\n",
              "    pre {\n",
              "        white-space: pre-wrap;\n",
              "    }\n",
              "  </style>\n",
              "  "
            ]
          },
          "metadata": {}
        },
        {
          "output_type": "display_data",
          "data": {
            "image/png": "[encoded data removed]",
            "text/plain": [
              "<IPython.core.display.Image object>"
            ]
          },
          "metadata": {}
        }
      ]
    },
    {
      "cell_type": "code",
      "source": [
        "# format result output\n",
        "def print_graph_result(result):\n",
        "    # Print question, generated answer, trust level, answer grade\n",
        "    print(\"--- END OF AI-WORKFLOW ---\\n\")\n",
        "    print(f\"Question: {result.get('question', 'N/A')}\")\n",
        "    print(f\"Answer: {result.get('generation').content if result.get('generation') else 'N/A'}\")\n",
        "\n",
        "    # Print additional metadata from the generation\n",
        "    generation = result.get('generation')\n",
        "    if generation:\n",
        "        response_metadata = generation.response_metadata\n",
        "        print(\"\\nResponse Metadata:\")\n",
        "        for key, value in response_metadata.items():\n",
        "            print(f\"  {key}: {value}\")\n",
        "        print()\n",
        "\n",
        "    # Print documents\n",
        "    documents = result.get('documents', [])\n",
        "    for index, doc in enumerate(documents):\n",
        "        print(f\"Document {index + 1}:\")\n",
        "        metadata = doc.metadata\n",
        "        for key, value in metadata.items():\n",
        "            print(f\"  {key}: {value}\")\n",
        "        print(f\"  Content: {doc.page_content[:80]}...\")  # Limit content to 150 characters"
      ],
      "metadata": {
        "colab": {
          "base_uri": "https://localhost:8080/",
          "height": 17
        },
        "id": "AkZH23HEWBWE",
        "outputId": "5ecfc0b3-bbef-4277-a83e-155fde063f39"
      },
      "execution_count": 41,
      "outputs": [
        {
          "output_type": "display_data",
          "data": {
            "text/plain": [
              "<IPython.core.display.HTML object>"
            ],
            "text/html": [
              "\n",
              "  <style>\n",
              "    pre {\n",
              "        white-space: pre-wrap;\n",
              "    }\n",
              "  </style>\n",
              "  "
            ]
          },
          "metadata": {}
        }
      ]
    },
    {
      "cell_type": "code",
      "source": [
        "result = graph.invoke({\"question\": \"Wie viele Komponenten brauche ich mindestens für das Setup von Routing?\"}, config={\"callbacks\": [handler]})\n",
        "print_graph_result(result)"
      ],
      "metadata": {
        "id": "ZSbDrhT2UWp1"
      },
      "execution_count": null,
      "outputs": []
    },
    {
      "cell_type": "code",
      "source": [
        "# Task: invoke the graph for the second question here (with Langfuse) and output the result\n",
        "..."
      ],
      "metadata": {
        "id": "H03_giSX-Rzj"
      },
      "execution_count": null,
      "outputs": []
    }
  ]
}