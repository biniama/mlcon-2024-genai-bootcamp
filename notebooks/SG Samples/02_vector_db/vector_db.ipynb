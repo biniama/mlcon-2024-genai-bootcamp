{
 "cells": [
  {
   "cell_type": "markdown",
   "metadata": {},
   "source": [
    "<img src=\"https://71022.cdn.cke-cs.com/RructTCFEHceQFc13ldy/images/6dbe93b28dbb43fbc9d50623b68a675a1fedd7608af93b46.png\" srcset=\"https://71022.cdn.cke-cs.com/RructTCFEHceQFc13ldy/images/6dbe93b28dbb43fbc9d50623b68a675a1fedd7608af93b46.png/w_130 130w, https://71022.cdn.cke-cs.com/RructTCFEHceQFc13ldy/images/6dbe93b28dbb43fbc9d50623b68a675a1fedd7608af93b46.png/w_260 260w, https://71022.cdn.cke-cs.com/RructTCFEHceQFc13ldy/images/6dbe93b28dbb43fbc9d50623b68a675a1fedd7608af93b46.png/w_390 390w, https://71022.cdn.cke-cs.com/RructTCFEHceQFc13ldy/images/6dbe93b28dbb43fbc9d50623b68a675a1fedd7608af93b46.png/w_520 520w, https://71022.cdn.cke-cs.com/RructTCFEHceQFc13ldy/images/6dbe93b28dbb43fbc9d50623b68a675a1fedd7608af93b46.png/w_650 650w, https://71022.cdn.cke-cs.com/RructTCFEHceQFc13ldy/images/6dbe93b28dbb43fbc9d50623b68a675a1fedd7608af93b46.png/w_780 780w, https://71022.cdn.cke-cs.com/RructTCFEHceQFc13ldy/images/6dbe93b28dbb43fbc9d50623b68a675a1fedd7608af93b46.png/w_910 910w, https://71022.cdn.cke-cs.com/RructTCFEHceQFc13ldy/images/6dbe93b28dbb43fbc9d50623b68a675a1fedd7608af93b46.png/w_1040 1040w, https://71022.cdn.cke-cs.com/RructTCFEHceQFc13ldy/images/6dbe93b28dbb43fbc9d50623b68a675a1fedd7608af93b46.png/w_1170 1170w, https://71022.cdn.cke-cs.com/RructTCFEHceQFc13ldy/images/6dbe93b28dbb43fbc9d50623b68a675a1fedd7608af93b46.png/w_1290 1290w\" sizes=\"100vw\" width=\"1290\">\n",
    "\n",
    "<p style='margin-top: 1rem; margin-bottom: 1rem;'>Developed by Sebastian Gingter, Developer Consultant @ <a href='https://thinktecture.com' _target='blank'>Thinktecture AG</a> -- More about me on my <a href='https://thinktecture.com/sebastian-gingter' _target='blank'>profile page</a></p>"
   ]
  },
  {
   "cell_type": "markdown",
   "metadata": {},
   "source": [
    "# Vector-DB Sample\n",
    "\n",
    "This sample shows how to use embeddings in combination with a vector db to store chunks of text,\n",
    "and how to retrieve the text based on similarity."
   ]
  },
  {
   "cell_type": "markdown",
   "metadata": {},
   "source": [
    "## Prettify Colab Notebook outputs"
   ]
  },
  {
   "cell_type": "code",
   "execution_count": null,
   "metadata": {},
   "outputs": [],
   "source": [
    "from IPython.display import HTML, display\n",
    "\n",
    "def set_css():\n",
    "  display(HTML('''\n",
    "  <style>\n",
    "    pre {\n",
    "        white-space: pre-wrap;\n",
    "    }\n",
    "  </style>\n",
    "  '''))\n",
    "\n",
    "get_ipython().events.register('pre_run_cell', set_css)"
   ]
  },
  {
   "cell_type": "markdown",
   "metadata": {},
   "source": [
    "# Vector DB Sample\n",
    "\n",
    "We use Python 3.9 for that."
   ]
  },
  {
   "cell_type": "code",
   "execution_count": null,
   "metadata": {},
   "outputs": [],
   "source": [
    "%pip install chromadb\n",
    "%pip install langchain\n",
    "%pip install langchain-community\n",
    "%pip install langchain-chroma\n",
    "%pip install langchain-huggingface"
   ]
  },
  {
   "cell_type": "markdown",
   "metadata": {},
   "source": [
    "## Create embedding model and initialize the vector-db"
   ]
  },
  {
   "cell_type": "code",
   "execution_count": null,
   "metadata": {},
   "outputs": [],
   "source": [
    "from langchain_huggingface import HuggingFaceEmbeddings\n",
    "from langchain_chroma import Chroma\n",
    "\n",
    "# prepare the embedding model\n",
    "embedding_function = HuggingFaceEmbeddings(model_name = 'intfloat/multilingual-e5-large')\n",
    "\n",
    "# prepare the vector db\n",
    "db = Chroma(embedding_function = embedding_function, persist_directory = './chromadb/')"
   ]
  },
  {
   "cell_type": "markdown",
   "metadata": {},
   "source": [
    "## Prepare the data and load it to the vector-db"
   ]
  },
  {
   "cell_type": "code",
   "execution_count": null,
   "metadata": {},
   "outputs": [],
   "source": [
    "texts = [\n",
    "    'Die Sonne erzeugt ihre Energie durch Kernfusion. In ihrem Kern verschmelzen Wasserstoffatome unter extremem Druck und bei sehr hohen Temperaturen zu Helium. Dieser Prozess setzt enorme Mengen an Energie frei, die als Licht und Wärme zur Erde gelangen.',\n",
    "    'Die Sonne ist ein Stern von enormer Größe und Masse. Sie hat einen Durchmesser von etwa 1,4 Millionen Kilometern, was ungefähr dem 109-fachen des Erddurchmessers entspricht. Die Masse der Sonne macht etwa 99,86% der gesamten Masse des Sonnensystems aus.',\n",
    "    'Die Sonne durchläuft einen etwa 11-jährigen Aktivitätszyklus, der durch die Anzahl und Verteilung von Sonnenflecken gemessen wird. Diese Zyklen variieren in Intensität und können Einfluss auf das Raumwetter und die Kommunikationstechnologie auf der Erde haben.',\n",
    "    'Die Sonne besteht hauptsächlich aus Wasserstoff (etwa 75% ihrer Masse) und Helium (etwa 24% ihrer Masse). Die restlichen 1% enthalten schwerere Elemente wie Sauerstoff, Kohlenstoff, Neon und Eisen.',\n",
    "    'Die Sonne stößt kontinuierlich einen Strom geladener Teilchen aus, der als Sonnenwind bekannt ist. Dieser Wind reist durch das Sonnensystem und interagiert mit Planetenmagnetfeldern und Atmosphären, was unter anderem zur Ausbildung von Polarlichtern führen kann.',\n",
    "    'Die Temperatur der Sonne variiert je nach Schicht. Im Kern der Sonne, wo die Kernfusion stattfindet, erreichen die Temperaturen etwa 15 Millionen Grad Celsius (27 Millionen Grad Fahrenheit). Dies ist unvergleichlich heißer als übliche Prozesse und Zustände, die wir auf der Erde erleben. An der sichtbaren Oberfläche der Sonne, der Photosphäre, liegt die Temperatur bei ungefähr 5.500 Grad Celsius (etwa 9.932 Grad Fahrenheit). Die Temperatur steigt wieder in der Sonnenatmosphäre, speziell in der Korona, wo sie Millionen von Grad erreichen kann. Diese extrem heißen Temperaturen sind paradox, weil man erwarten würde, dass die Temperatur von der Wärmequelle weg abnimmt. Dieses Phänomen, bekannt als das Koronaheizungsproblem, ist immer noch Gegenstand intensiver Forschung und Debatten in der Astrophysik.',\n",
    "]\n",
    "\n",
    "db.add_texts(texts)"
   ]
  },
  {
   "cell_type": "markdown",
   "metadata": {},
   "source": [
    "## Query the vector-db"
   ]
  },
  {
   "cell_type": "code",
   "execution_count": null,
   "metadata": {},
   "outputs": [],
   "source": [
    "query = 'Wie groß ist die Sonne?'\n",
    "# query = 'Wie heiss ist die Sonne?'\n",
    "\n",
    "results = db.similarity_search_with_score(query)\n",
    "\n",
    "for result in results:\n",
    "    print(f'Score: {result[1]}')\n",
    "    print(f'Text:\\n{result[0].page_content}\\n\\n')"
   ]
  }
 ],
 "metadata": {
  "language_info": {
   "name": "python"
  }
 },
 "nbformat": 4,
 "nbformat_minor": 2
}
